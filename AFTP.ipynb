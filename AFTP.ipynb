{
  "nbformat": 4,
  "nbformat_minor": 0,
  "metadata": {
    "colab": {
      "provenance": [],
      "toc_visible": true
    },
    "kernelspec": {
      "name": "python3",
      "display_name": "Python 3"
    },
    "language_info": {
      "name": "python"
    }
  },
  "cells": [
    {
      "cell_type": "markdown",
      "source": [
        "# Proje"
      ],
      "metadata": {
        "id": "XP8wAuzBmOXf"
      }
    },
    {
      "cell_type": "markdown",
      "source": [
        "Projenin temel amacı, araçların çeşitli özelliklerini kullanarak satış fiyatını (sellingprice) tahmin etmekdir. Gözetimli öğrenme algoritmaları kullanılacaktır."
      ],
      "metadata": {
        "id": "3KhQr3mdpyaQ"
      }
    },
    {
      "cell_type": "markdown",
      "source": [
        "## Kütüphanelerin İmport Edilmesi"
      ],
      "metadata": {
        "id": "UXb9BoSfmHb4"
      }
    },
    {
      "cell_type": "code",
      "execution_count": 1,
      "metadata": {
        "id": "x1ti0_hRl--D"
      },
      "outputs": [],
      "source": [
        "import kagglehub\n",
        "import os\n",
        "import pandas as pd\n",
        "import numpy as np\n",
        "import matplotlib.pyplot as plt\n",
        "import seaborn as sns\n",
        "from datetime import datetime\n",
        "\n",
        "# Makine öğrenmesi için kütüphaneler\n",
        "from sklearn.model_selection import train_test_split, cross_val_score, GridSearchCV, RandomizedSearchCV\n",
        "from sklearn.preprocessing import StandardScaler, OneHotEncoder, LabelEncoder, MinMaxScaler\n",
        "from sklearn.compose import ColumnTransformer\n",
        "from sklearn.pipeline import Pipeline\n",
        "from sklearn.impute import SimpleImputer\n",
        "\n",
        "# Regresyon Modelleri\n",
        "from sklearn.linear_model import LinearRegression, Ridge, Lasso\n",
        "from sklearn.tree import DecisionTreeRegressor\n",
        "\n",
        "# Metrikler\n",
        "from sklearn.metrics import mean_squared_error, mean_absolute_error, r2_score, silhouette_score\n",
        "\n",
        "# Uyarıları bastırmak için\n",
        "import warnings\n",
        "warnings.filterwarnings('ignore')\n",
        "\n",
        "# Görselleştirme ayarları\n",
        "pd.set_option(\"display.width\", 500)\n",
        "pd.set_option(\"display.max_columns\", None)\n"
      ]
    },
    {
      "cell_type": "markdown",
      "source": [
        "## Veri Setinin Yüklenmesi"
      ],
      "metadata": {
        "id": "ueg7GHfCmWCj"
      }
    },
    {
      "cell_type": "code",
      "source": [
        " path = kagglehub.dataset_download('syedanwarafridi/vehicle-sales-data')\n",
        " print(\"Path to dataset files:\", path)"
      ],
      "metadata": {
        "colab": {
          "base_uri": "https://localhost:8080/"
        },
        "id": "ApcggT4JmYkj",
        "outputId": "a505b108-2681-4a04-b3fc-7f8d947d0ecf"
      },
      "execution_count": 2,
      "outputs": [
        {
          "output_type": "stream",
          "name": "stdout",
          "text": [
            "Path to dataset files: /kaggle/input/vehicle-sales-data\n"
          ]
        }
      ]
    },
    {
      "cell_type": "code",
      "source": [
        "for entry in os.listdir(path):\n",
        "    print(entry)"
      ],
      "metadata": {
        "id": "qXYhAM2pnj6z",
        "outputId": "a153c593-c84d-4c36-c967-b17910e99b24",
        "colab": {
          "base_uri": "https://localhost:8080/"
        }
      },
      "execution_count": 3,
      "outputs": [
        {
          "output_type": "stream",
          "name": "stdout",
          "text": [
            "car_prices.csv\n"
          ]
        }
      ]
    },
    {
      "cell_type": "code",
      "source": [
        "df = pd.read_csv(f\"{path}/car_prices.csv\")\n"
      ],
      "metadata": {
        "id": "AQpFr-qBm9ir"
      },
      "execution_count": 4,
      "outputs": []
    },
    {
      "cell_type": "markdown",
      "source": [
        "## Keşifsel Veri Analizi"
      ],
      "metadata": {
        "id": "Ene0UwycoE1v"
      }
    },
    {
      "cell_type": "code",
      "source": [
        "print(\"Veri Seti Boyutu (Satır, Sütun):\", df.shape)"
      ],
      "metadata": {
        "colab": {
          "base_uri": "https://localhost:8080/"
        },
        "id": "RSvMVMzcoZ4_",
        "outputId": "2579b944-5c85-4278-a658-dc3fa3b41728"
      },
      "execution_count": 5,
      "outputs": [
        {
          "output_type": "stream",
          "name": "stdout",
          "text": [
            "Veri Seti Boyutu (Satır, Sütun): (558837, 16)\n"
          ]
        }
      ]
    },
    {
      "cell_type": "code",
      "source": [
        "print(\"\\nVeri Seti İlk 5 Satır:\\n\", df.head())\n"
      ],
      "metadata": {
        "colab": {
          "base_uri": "https://localhost:8080/"
        },
        "id": "UL7Qdq7lo3II",
        "outputId": "b552f8ae-f30b-42d2-862e-28ebc0c4c393"
      },
      "execution_count": 6,
      "outputs": [
        {
          "output_type": "stream",
          "name": "stdout",
          "text": [
            "\n",
            "Veri Seti İlk 5 Satır:\n",
            "    year   make                model        trim   body transmission                vin state  condition  odometer  color interior                                  seller      mmr  sellingprice                                 saledate\n",
            "0  2015    Kia              Sorento          LX    SUV    automatic  5xyktca69fg566472    ca        5.0   16639.0  white    black                 kia motors america  inc  20500.0       21500.0  Tue Dec 16 2014 12:30:00 GMT-0800 (PST)\n",
            "1  2015    Kia              Sorento          LX    SUV    automatic  5xyktca69fg561319    ca        5.0    9393.0  white    beige                 kia motors america  inc  20800.0       21500.0  Tue Dec 16 2014 12:30:00 GMT-0800 (PST)\n",
            "2  2014    BMW             3 Series  328i SULEV  Sedan    automatic  wba3c1c51ek116351    ca       45.0    1331.0   gray    black  financial services remarketing (lease)  31900.0       30000.0  Thu Jan 15 2015 04:30:00 GMT-0800 (PST)\n",
            "3  2015  Volvo                  S60          T5  Sedan    automatic  yv1612tb4f1310987    ca       41.0   14282.0  white    black                 volvo na rep/world omni  27500.0       27750.0  Thu Jan 29 2015 04:30:00 GMT-0800 (PST)\n",
            "4  2014    BMW  6 Series Gran Coupe        650i  Sedan    automatic  wba6b2c57ed129731    ca       43.0    2641.0   gray    black  financial services remarketing (lease)  66000.0       67000.0  Thu Dec 18 2014 12:30:00 GMT-0800 (PST)\n"
          ]
        }
      ]
    },
    {
      "cell_type": "code",
      "source": [
        "print(\"\\nVeri Seti Sütun Bilgileri:\\n\")\n",
        "df.info()"
      ],
      "metadata": {
        "colab": {
          "base_uri": "https://localhost:8080/"
        },
        "id": "hkdh--pypDzR",
        "outputId": "d7c8bb5b-9b57-4db8-c620-aa20b53559ab"
      },
      "execution_count": 7,
      "outputs": [
        {
          "output_type": "stream",
          "name": "stdout",
          "text": [
            "\n",
            "Veri Seti Sütun Bilgileri:\n",
            "\n",
            "<class 'pandas.core.frame.DataFrame'>\n",
            "RangeIndex: 558837 entries, 0 to 558836\n",
            "Data columns (total 16 columns):\n",
            " #   Column        Non-Null Count   Dtype  \n",
            "---  ------        --------------   -----  \n",
            " 0   year          558837 non-null  int64  \n",
            " 1   make          548536 non-null  object \n",
            " 2   model         548438 non-null  object \n",
            " 3   trim          548186 non-null  object \n",
            " 4   body          545642 non-null  object \n",
            " 5   transmission  493485 non-null  object \n",
            " 6   vin           558833 non-null  object \n",
            " 7   state         558837 non-null  object \n",
            " 8   condition     547017 non-null  float64\n",
            " 9   odometer      558743 non-null  float64\n",
            " 10  color         558088 non-null  object \n",
            " 11  interior      558088 non-null  object \n",
            " 12  seller        558837 non-null  object \n",
            " 13  mmr           558799 non-null  float64\n",
            " 14  sellingprice  558825 non-null  float64\n",
            " 15  saledate      558825 non-null  object \n",
            "dtypes: float64(4), int64(1), object(11)\n",
            "memory usage: 68.2+ MB\n"
          ]
        }
      ]
    },
    {
      "cell_type": "code",
      "source": [
        "print(\"\\nSayısal Sütunların İstatistiksel Özeti:\\n\", df.describe())"
      ],
      "metadata": {
        "colab": {
          "base_uri": "https://localhost:8080/"
        },
        "id": "FttjXKHKpH-4",
        "outputId": "aa74fcbc-6f72-455b-c2ca-af6660685454"
      },
      "execution_count": 8,
      "outputs": [
        {
          "output_type": "stream",
          "name": "stdout",
          "text": [
            "\n",
            "Sayısal Sütunların İstatistiksel Özeti:\n",
            "                 year      condition       odometer            mmr   sellingprice\n",
            "count  558837.000000  547017.000000  558743.000000  558799.000000  558825.000000\n",
            "mean     2010.038927      30.672365   68320.017767   13769.377495   13611.358810\n",
            "std         3.966864      13.402832   53398.542821    9679.967174    9749.501628\n",
            "min      1982.000000       1.000000       1.000000      25.000000       1.000000\n",
            "25%      2007.000000      23.000000   28371.000000    7100.000000    6900.000000\n",
            "50%      2012.000000      35.000000   52254.000000   12250.000000   12100.000000\n",
            "75%      2013.000000      42.000000   99109.000000   18300.000000   18200.000000\n",
            "max      2015.000000      49.000000  999999.000000  182000.000000  230000.000000\n"
          ]
        }
      ]
    },
    {
      "cell_type": "code",
      "source": [
        "print(\"\\nEksik Değer Sayıları:\\n\", df.isnull().sum())"
      ],
      "metadata": {
        "colab": {
          "base_uri": "https://localhost:8080/"
        },
        "id": "pE2-TSakpPqA",
        "outputId": "80e446d4-f0f9-4810-a9e4-6d4981a25e2d"
      },
      "execution_count": 9,
      "outputs": [
        {
          "output_type": "stream",
          "name": "stdout",
          "text": [
            "\n",
            "Eksik Değer Sayıları:\n",
            " year                0\n",
            "make            10301\n",
            "model           10399\n",
            "trim            10651\n",
            "body            13195\n",
            "transmission    65352\n",
            "vin                 4\n",
            "state               0\n",
            "condition       11820\n",
            "odometer           94\n",
            "color             749\n",
            "interior          749\n",
            "seller              0\n",
            "mmr                38\n",
            "sellingprice       12\n",
            "saledate           12\n",
            "dtype: int64\n"
          ]
        }
      ]
    },
    {
      "cell_type": "code",
      "source": [
        "# Hedef değişkenin (sellingprice) dağılımı\n",
        "plt.figure(figsize=(12, 6))\n",
        "sns.histplot(df['sellingprice'], kde=True, bins=50)\n",
        "plt.title('Satış Fiyatı (sellingprice) Dağılımı')\n",
        "plt.xlabel('Satış Fiyatı')\n",
        "plt.ylabel('Frekans')\n",
        "plt.show()"
      ],
      "metadata": {
        "colab": {
          "base_uri": "https://localhost:8080/",
          "height": 564
        },
        "id": "gDAIvSBnpYct",
        "outputId": "d8b08012-7a99-4275-fd2e-9cac42b2a6a1"
      },
      "execution_count": 10,
      "outputs": [
        {
          "output_type": "display_data",
          "data": {
            "text/plain": [
              "<Figure size 1200x600 with 1 Axes>"
            ],
            "image/png": "[encoded data removed]"
          },
          "metadata": {}
        }
      ]
    },
    {
      "cell_type": "markdown",
      "source": [
        "## Veri Ön İşleme"
      ],
      "metadata": {
        "id": "veInTrlGrKbb"
      }
    },
    {
      "cell_type": "markdown",
      "source": [
        "### Gereksiz Sütunların Kaldırılması\n"
      ],
      "metadata": {
        "id": "uwrfSAPP1_OK"
      }
    },
    {
      "cell_type": "code",
      "source": [
        "columns_to_drop = ['vin', 'state', 'seller', 'mmr']\n",
        "df.drop(columns=columns_to_drop, inplace=True, errors='ignore')"
      ],
      "metadata": {
        "id": "q73XvwFlrMf9"
      },
      "execution_count": 11,
      "outputs": []
    },
    {
      "cell_type": "code",
      "source": [
        "df.head()"
      ],
      "metadata": {
        "colab": {
          "base_uri": "https://localhost:8080/",
          "height": 206
        },
        "id": "nxdro3JQrjjF",
        "outputId": "d667b4c9-36d9-419c-e233-c0292a9937cb"
      },
      "execution_count": 12,
      "outputs": [
        {
          "output_type": "execute_result",
          "data": {
            "text/plain": [
              "   year   make                model        trim   body transmission  condition  odometer  color interior  sellingprice                                 saledate\n",
              "0  2015    Kia              Sorento          LX    SUV    automatic        5.0   16639.0  white    black       21500.0  Tue Dec 16 2014 12:30:00 GMT-0800 (PST)\n",
              "1  2015    Kia              Sorento          LX    SUV    automatic        5.0    9393.0  white    beige       21500.0  Tue Dec 16 2014 12:30:00 GMT-0800 (PST)\n",
              "2  2014    BMW             3 Series  328i SULEV  Sedan    automatic       45.0    1331.0   gray    black       30000.0  Thu Jan 15 2015 04:30:00 GMT-0800 (PST)\n",
              "3  2015  Volvo                  S60          T5  Sedan    automatic       41.0   14282.0  white    black       27750.0  Thu Jan 29 2015 04:30:00 GMT-0800 (PST)\n",
              "4  2014    BMW  6 Series Gran Coupe        650i  Sedan    automatic       43.0    2641.0   gray    black       67000.0  Thu Dec 18 2014 12:30:00 GMT-0800 (PST)"
            ],
            "text/html": [
              "\n",
              "  <div id=\"df-9d3d5017-6adc-4f6e-b27c-0e8a48861f46\" class=\"colab-df-container\">\n",
              "    <div>\n",
              "<style scoped>\n",
              "    .dataframe tbody tr th:only-of-type {\n",
              "        vertical-align: middle;\n",
              "    }\n",
              "\n",
              "    .dataframe tbody tr th {\n",
              "        vertical-align: top;\n",
              "    }\n",
              "\n",
              "    .dataframe thead th {\n",
              "        text-align: right;\n",
              "    }\n",
              "</style>\n",
              "<table border=\"1\" class=\"dataframe\">\n",
              "  <thead>\n",
              "    <tr style=\"text-align: right;\">\n",
              "      <th></th>\n",
              "      <th>year</th>\n",
              "      <th>make</th>\n",
              "      <th>model</th>\n",
              "      <th>trim</th>\n",
              "      <th>body</th>\n",
              "      <th>transmission</th>\n",
              "      <th>condition</th>\n",
              "      <th>odometer</th>\n",
              "      <th>color</th>\n",
              "      <th>interior</th>\n",
              "      <th>sellingprice</th>\n",
              "      <th>saledate</th>\n",
              "    </tr>\n",
              "  </thead>\n",
              "  <tbody>\n",
              "    <tr>\n",
              "      <th>0</th>\n",
              "      <td>2015</td>\n",
              "      <td>Kia</td>\n",
              "      <td>Sorento</td>\n",
              "      <td>LX</td>\n",
              "      <td>SUV</td>\n",
              "      <td>automatic</td>\n",
              "      <td>5.0</td>\n",
              "      <td>16639.0</td>\n",
              "      <td>white</td>\n",
              "      <td>black</td>\n",
              "      <td>21500.0</td>\n",
              "      <td>Tue Dec 16 2014 12:30:00 GMT-0800 (PST)</td>\n",
              "    </tr>\n",
              "    <tr>\n",
              "      <th>1</th>\n",
              "      <td>2015</td>\n",
              "      <td>Kia</td>\n",
              "      <td>Sorento</td>\n",
              "      <td>LX</td>\n",
              "      <td>SUV</td>\n",
              "      <td>automatic</td>\n",
              "      <td>5.0</td>\n",
              "      <td>9393.0</td>\n",
              "      <td>white</td>\n",
              "      <td>beige</td>\n",
              "      <td>21500.0</td>\n",
              "      <td>Tue Dec 16 2014 12:30:00 GMT-0800 (PST)</td>\n",
              "    </tr>\n",
              "    <tr>\n",
              "      <th>2</th>\n",
              "      <td>2014</td>\n",
              "      <td>BMW</td>\n",
              "      <td>3 Series</td>\n",
              "      <td>328i SULEV</td>\n",
              "      <td>Sedan</td>\n",
              "      <td>automatic</td>\n",
              "      <td>45.0</td>\n",
              "      <td>1331.0</td>\n",
              "      <td>gray</td>\n",
              "      <td>black</td>\n",
              "      <td>30000.0</td>\n",
              "      <td>Thu Jan 15 2015 04:30:00 GMT-0800 (PST)</td>\n",
              "    </tr>\n",
              "    <tr>\n",
              "      <th>3</th>\n",
              "      <td>2015</td>\n",
              "      <td>Volvo</td>\n",
              "      <td>S60</td>\n",
              "      <td>T5</td>\n",
              "      <td>Sedan</td>\n",
              "      <td>automatic</td>\n",
              "      <td>41.0</td>\n",
              "      <td>14282.0</td>\n",
              "      <td>white</td>\n",
              "      <td>black</td>\n",
              "      <td>27750.0</td>\n",
              "      <td>Thu Jan 29 2015 04:30:00 GMT-0800 (PST)</td>\n",
              "    </tr>\n",
              "    <tr>\n",
              "      <th>4</th>\n",
              "      <td>2014</td>\n",
              "      <td>BMW</td>\n",
              "      <td>6 Series Gran Coupe</td>\n",
              "      <td>650i</td>\n",
              "      <td>Sedan</td>\n",
              "      <td>automatic</td>\n",
              "      <td>43.0</td>\n",
              "      <td>2641.0</td>\n",
              "      <td>gray</td>\n",
              "      <td>black</td>\n",
              "      <td>67000.0</td>\n",
              "      <td>Thu Dec 18 2014 12:30:00 GMT-0800 (PST)</td>\n",
              "    </tr>\n",
              "  </tbody>\n",
              "</table>\n",
              "</div>\n",
              "    <div class=\"colab-df-buttons\">\n",
              "\n",
              "  <div class=\"colab-df-container\">\n",
              "    <button class=\"colab-df-convert\" onclick=\"convertToInteractive('df-9d3d5017-6adc-4f6e-b27c-0e8a48861f46')\"\n",
              "            title=\"Convert this dataframe to an interactive table.\"\n",
              "            style=\"display:none;\">\n",
              "\n",
              "  <svg xmlns=\"http://www.w3.org/2000/svg\" height=\"24px\" viewBox=\"0 -960 960 960\">\n",
              "    <path d=\"M120-120v-720h720v720H120Zm60-500h600v-160H180v160Zm220 220h160v-160H400v160Zm0 220h160v-160H400v160ZM180-400h160v-160H180v160Zm440 0h160v-160H620v160ZM180-180h160v-160H180v160Zm440 0h160v-160H620v160Z\"/>\n",
              "  </svg>\n",
              "    </button>\n",
              "\n",
              "  <style>\n",
              "    .colab-df-container {\n",
              "      display:flex;\n",
              "      gap: 12px;\n",
              "    }\n",
              "\n",
              "    .colab-df-convert {\n",
              "      background-color: #E8F0FE;\n",
              "      border: none;\n",
              "      border-radius: 50%;\n",
              "      cursor: pointer;\n",
              "      display: none;\n",
              "      fill: #1967D2;\n",
              "      height: 32px;\n",
              "      padding: 0 0 0 0;\n",
              "      width: 32px;\n",
              "    }\n",
              "\n",
              "    .colab-df-convert:hover {\n",
              "      background-color: #E2EBFA;\n",
              "      box-shadow: 0px 1px 2px rgba(60, 64, 67, 0.3), 0px 1px 3px 1px rgba(60, 64, 67, 0.15);\n",
              "      fill: #174EA6;\n",
              "    }\n",
              "\n",
              "    .colab-df-buttons div {\n",
              "      margin-bottom: 4px;\n",
              "    }\n",
              "\n",
              "    [theme=dark] .colab-df-convert {\n",
              "      background-color: #3B4455;\n",
              "      fill: #D2E3FC;\n",
              "    }\n",
              "\n",
              "    [theme=dark] .colab-df-convert:hover {\n",
              "      background-color: #434B5C;\n",
              "      box-shadow: 0px 1px 3px 1px rgba(0, 0, 0, 0.15);\n",
              "      filter: drop-shadow(0px 1px 2px rgba(0, 0, 0, 0.3));\n",
              "      fill: #FFFFFF;\n",
              "    }\n",
              "  </style>\n",
              "\n",
              "    <script>\n",
              "      const buttonEl =\n",
              "        document.querySelector('#df-9d3d5017-6adc-4f6e-b27c-0e8a48861f46 button.colab-df-convert');\n",
              "      buttonEl.style.display =\n",
              "        google.colab.kernel.accessAllowed ? 'block' : 'none';\n",
              "\n",
              "      async function convertToInteractive(key) {\n",
              "        const element = document.querySelector('#df-9d3d5017-6adc-4f6e-b27c-0e8a48861f46');\n",
              "        const dataTable =\n",
              "          await google.colab.kernel.invokeFunction('convertToInteractive',\n",
              "                                                    [key], {});\n",
              "        if (!dataTable) return;\n",
              "\n",
              "        const docLinkHtml = 'Like what you see? Visit the ' +\n",
              "          '<a target=\"_blank\" href=https://colab.research.google.com/notebooks/data_table.ipynb>data table notebook</a>'\n",
              "          + ' to learn more about interactive tables.';\n",
              "        element.innerHTML = '';\n",
              "        dataTable['output_type'] = 'display_data';\n",
              "        await google.colab.output.renderOutput(dataTable, element);\n",
              "        const docLink = document.createElement('div');\n",
              "        docLink.innerHTML = docLinkHtml;\n",
              "        element.appendChild(docLink);\n",
              "      }\n",
              "    </script>\n",
              "  </div>\n",
              "\n",
              "\n",
              "    <div id=\"df-92f9691e-fc41-4350-9995-c063ab790370\">\n",
              "      <button class=\"colab-df-quickchart\" onclick=\"quickchart('df-92f9691e-fc41-4350-9995-c063ab790370')\"\n",
              "                title=\"Suggest charts\"\n",
              "                style=\"display:none;\">\n",
              "\n",
              "<svg xmlns=\"http://www.w3.org/2000/svg\" height=\"24px\"viewBox=\"0 0 24 24\"\n",
              "     width=\"24px\">\n",
              "    <g>\n",
              "        <path d=\"M19 3H5c-1.1 0-2 .9-2 2v14c0 1.1.9 2 2 2h14c1.1 0 2-.9 2-2V5c0-1.1-.9-2-2-2zM9 17H7v-7h2v7zm4 0h-2V7h2v10zm4 0h-2v-4h2v4z\"/>\n",
              "    </g>\n",
              "</svg>\n",
              "      </button>\n",
              "\n",
              "<style>\n",
              "  .colab-df-quickchart {\n",
              "      --bg-color: #E8F0FE;\n",
              "      --fill-color: #1967D2;\n",
              "      --hover-bg-color: #E2EBFA;\n",
              "      --hover-fill-color: #174EA6;\n",
              "      --disabled-fill-color: #AAA;\n",
              "      --disabled-bg-color: #DDD;\n",
              "  }\n",
              "\n",
              "  [theme=dark] .colab-df-quickchart {\n",
              "      --bg-color: #3B4455;\n",
              "      --fill-color: #D2E3FC;\n",
              "      --hover-bg-color: #434B5C;\n",
              "      --hover-fill-color: #FFFFFF;\n",
              "      --disabled-bg-color: #3B4455;\n",
              "      --disabled-fill-color: #666;\n",
              "  }\n",
              "\n",
              "  .colab-df-quickchart {\n",
              "    background-color: var(--bg-color);\n",
              "    border: none;\n",
              "    border-radius: 50%;\n",
              "    cursor: pointer;\n",
              "    display: none;\n",
              "    fill: var(--fill-color);\n",
              "    height: 32px;\n",
              "    padding: 0;\n",
              "    width: 32px;\n",
              "  }\n",
              "\n",
              "  .colab-df-quickchart:hover {\n",
              "    background-color: var(--hover-bg-color);\n",
              "    box-shadow: 0 1px 2px rgba(60, 64, 67, 0.3), 0 1px 3px 1px rgba(60, 64, 67, 0.15);\n",
              "    fill: var(--button-hover-fill-color);\n",
              "  }\n",
              "\n",
              "  .colab-df-quickchart-complete:disabled,\n",
              "  .colab-df-quickchart-complete:disabled:hover {\n",
              "    background-color: var(--disabled-bg-color);\n",
              "    fill: var(--disabled-fill-color);\n",
              "    box-shadow: none;\n",
              "  }\n",
              "\n",
              "  .colab-df-spinner {\n",
              "    border: 2px solid var(--fill-color);\n",
              "    border-color: transparent;\n",
              "    border-bottom-color: var(--fill-color);\n",
              "    animation:\n",
              "      spin 1s steps(1) infinite;\n",
              "  }\n",
              "\n",
              "  @keyframes spin {\n",
              "    0% {\n",
              "      border-color: transparent;\n",
              "      border-bottom-color: var(--fill-color);\n",
              "      border-left-color: var(--fill-color);\n",
              "    }\n",
              "    20% {\n",
              "      border-color: transparent;\n",
              "      border-left-color: var(--fill-color);\n",
              "      border-top-color: var(--fill-color);\n",
              "    }\n",
              "    30% {\n",
              "      border-color: transparent;\n",
              "      border-left-color: var(--fill-color);\n",
              "      border-top-color: var(--fill-color);\n",
              "      border-right-color: var(--fill-color);\n",
              "    }\n",
              "    40% {\n",
              "      border-color: transparent;\n",
              "      border-right-color: var(--fill-color);\n",
              "      border-top-color: var(--fill-color);\n",
              "    }\n",
              "    60% {\n",
              "      border-color: transparent;\n",
              "      border-right-color: var(--fill-color);\n",
              "    }\n",
              "    80% {\n",
              "      border-color: transparent;\n",
              "      border-right-color: var(--fill-color);\n",
              "      border-bottom-color: var(--fill-color);\n",
              "    }\n",
              "    90% {\n",
              "      border-color: transparent;\n",
              "      border-bottom-color: var(--fill-color);\n",
              "    }\n",
              "  }\n",
              "</style>\n",
              "\n",
              "      <script>\n",
              "        async function quickchart(key) {\n",
              "          const quickchartButtonEl =\n",
              "            document.querySelector('#' + key + ' button');\n",
              "          quickchartButtonEl.disabled = true;  // To prevent multiple clicks.\n",
              "          quickchartButtonEl.classList.add('colab-df-spinner');\n",
              "          try {\n",
              "            const charts = await google.colab.kernel.invokeFunction(\n",
              "                'suggestCharts', [key], {});\n",
              "          } catch (error) {\n",
              "            console.error('Error during call to suggestCharts:', error);\n",
              "          }\n",
              "          quickchartButtonEl.classList.remove('colab-df-spinner');\n",
              "          quickchartButtonEl.classList.add('colab-df-quickchart-complete');\n",
              "        }\n",
              "        (() => {\n",
              "          let quickchartButtonEl =\n",
              "            document.querySelector('#df-92f9691e-fc41-4350-9995-c063ab790370 button');\n",
              "          quickchartButtonEl.style.display =\n",
              "            google.colab.kernel.accessAllowed ? 'block' : 'none';\n",
              "        })();\n",
              "      </script>\n",
              "    </div>\n",
              "\n",
              "    </div>\n",
              "  </div>\n"
            ],
            "application/vnd.google.colaboratory.intrinsic+json": {
              "type": "dataframe",
              "variable_name": "df"
            }
          },
          "metadata": {},
          "execution_count": 12
        }
      ]
    },
    {
      "cell_type": "markdown",
      "source": [
        "### 'saledate' ve 'year' sütunlarını kullanarak araç yaşı kolonu oluşturma"
      ],
      "metadata": {
        "id": "oohyfh1q2B9F"
      }
    },
    {
      "cell_type": "code",
      "source": [
        "if 'saledate' in df.columns and 'year' in df.columns:\n",
        "    # 'saledate' sütununu datetime objesine dönüştür.\n",
        "    df['saledate_dt'] = pd.to_datetime(df['saledate'], utc=True, errors='coerce')\n",
        "\n",
        "    df.dropna(subset=['saledate_dt'], inplace=True) # Geçersiz tarihleri at\n",
        "\n",
        "    df['sale_year'] = df['saledate_dt'].dt.year\n",
        "\n",
        "    # Araç üretim yılını sayısal yap ve NaN olanları at\n",
        "    df['year'] = pd.to_numeric(df['year'], errors='coerce')\n",
        "    df.dropna(subset=['year'], inplace=True)\n",
        "\n",
        "    # Yıl sütunlarını integer yap\n",
        "    df['year'] = df['year'].round().astype(int)\n",
        "    df['sale_year'] = df['sale_year'].astype(int)\n",
        "\n",
        "    # Araç yaşını hesapla\n",
        "    df['vehicle_age'] = df['sale_year'] - df['year']\n",
        "\n",
        "    # Sadece 30 yaşından küçük araçlar\n",
        "    df = df[df['vehicle_age'] <= 30]\n",
        "\n",
        "    # Negatif araç yaşlarını 0 yap\n",
        "    negative_age_mask = df['vehicle_age'] < 0\n",
        "    if negative_age_mask.any():\n",
        "      df.loc[negative_age_mask, 'vehicle_age'] = 0\n",
        "\n",
        "    # Kullanılan ara sütunları kaldır\n",
        "    df.drop(columns=['saledate', 'saledate_dt'], inplace=True, errors='ignore')\n",
        "\n",
        "else:\n",
        "    print(\"\\n'saledate' veya 'year' sütunu veri setinde bulunamadı. 'vehicle_age' oluşturulamadı.\")"
      ],
      "metadata": {
        "id": "sSB-4-Vctg5l"
      },
      "execution_count": 13,
      "outputs": []
    },
    {
      "cell_type": "code",
      "source": [
        "df.head()"
      ],
      "metadata": {
        "colab": {
          "base_uri": "https://localhost:8080/",
          "height": 206
        },
        "id": "QEiIGfo7ts6o",
        "outputId": "c20771ac-c1ed-4264-c47e-f20bac12b872"
      },
      "execution_count": 14,
      "outputs": [
        {
          "output_type": "execute_result",
          "data": {
            "text/plain": [
              "   year   make                model        trim   body transmission  condition  odometer  color interior  sellingprice  sale_year  vehicle_age\n",
              "0  2015    Kia              Sorento          LX    SUV    automatic        5.0   16639.0  white    black       21500.0       2014            0\n",
              "1  2015    Kia              Sorento          LX    SUV    automatic        5.0    9393.0  white    beige       21500.0       2014            0\n",
              "2  2014    BMW             3 Series  328i SULEV  Sedan    automatic       45.0    1331.0   gray    black       30000.0       2015            1\n",
              "3  2015  Volvo                  S60          T5  Sedan    automatic       41.0   14282.0  white    black       27750.0       2015            0\n",
              "4  2014    BMW  6 Series Gran Coupe        650i  Sedan    automatic       43.0    2641.0   gray    black       67000.0       2014            0"
            ],
            "text/html": [
              "\n",
              "  <div id=\"df-1beffc11-4833-4d21-95d5-3838eaf1c2e0\" class=\"colab-df-container\">\n",
              "    <div>\n",
              "<style scoped>\n",
              "    .dataframe tbody tr th:only-of-type {\n",
              "        vertical-align: middle;\n",
              "    }\n",
              "\n",
              "    .dataframe tbody tr th {\n",
              "        vertical-align: top;\n",
              "    }\n",
              "\n",
              "    .dataframe thead th {\n",
              "        text-align: right;\n",
              "    }\n",
              "</style>\n",
              "<table border=\"1\" class=\"dataframe\">\n",
              "  <thead>\n",
              "    <tr style=\"text-align: right;\">\n",
              "      <th></th>\n",
              "      <th>year</th>\n",
              "      <th>make</th>\n",
              "      <th>model</th>\n",
              "      <th>trim</th>\n",
              "      <th>body</th>\n",
              "      <th>transmission</th>\n",
              "      <th>condition</th>\n",
              "      <th>odometer</th>\n",
              "      <th>color</th>\n",
              "      <th>interior</th>\n",
              "      <th>sellingprice</th>\n",
              "      <th>sale_year</th>\n",
              "      <th>vehicle_age</th>\n",
              "    </tr>\n",
              "  </thead>\n",
              "  <tbody>\n",
              "    <tr>\n",
              "      <th>0</th>\n",
              "      <td>2015</td>\n",
              "      <td>Kia</td>\n",
              "      <td>Sorento</td>\n",
              "      <td>LX</td>\n",
              "      <td>SUV</td>\n",
              "      <td>automatic</td>\n",
              "      <td>5.0</td>\n",
              "      <td>16639.0</td>\n",
              "      <td>white</td>\n",
              "      <td>black</td>\n",
              "      <td>21500.0</td>\n",
              "      <td>2014</td>\n",
              "      <td>0</td>\n",
              "    </tr>\n",
              "    <tr>\n",
              "      <th>1</th>\n",
              "      <td>2015</td>\n",
              "      <td>Kia</td>\n",
              "      <td>Sorento</td>\n",
              "      <td>LX</td>\n",
              "      <td>SUV</td>\n",
              "      <td>automatic</td>\n",
              "      <td>5.0</td>\n",
              "      <td>9393.0</td>\n",
              "      <td>white</td>\n",
              "      <td>beige</td>\n",
              "      <td>21500.0</td>\n",
              "      <td>2014</td>\n",
              "      <td>0</td>\n",
              "    </tr>\n",
              "    <tr>\n",
              "      <th>2</th>\n",
              "      <td>2014</td>\n",
              "      <td>BMW</td>\n",
              "      <td>3 Series</td>\n",
              "      <td>328i SULEV</td>\n",
              "      <td>Sedan</td>\n",
              "      <td>automatic</td>\n",
              "      <td>45.0</td>\n",
              "      <td>1331.0</td>\n",
              "      <td>gray</td>\n",
              "      <td>black</td>\n",
              "      <td>30000.0</td>\n",
              "      <td>2015</td>\n",
              "      <td>1</td>\n",
              "    </tr>\n",
              "    <tr>\n",
              "      <th>3</th>\n",
              "      <td>2015</td>\n",
              "      <td>Volvo</td>\n",
              "      <td>S60</td>\n",
              "      <td>T5</td>\n",
              "      <td>Sedan</td>\n",
              "      <td>automatic</td>\n",
              "      <td>41.0</td>\n",
              "      <td>14282.0</td>\n",
              "      <td>white</td>\n",
              "      <td>black</td>\n",
              "      <td>27750.0</td>\n",
              "      <td>2015</td>\n",
              "      <td>0</td>\n",
              "    </tr>\n",
              "    <tr>\n",
              "      <th>4</th>\n",
              "      <td>2014</td>\n",
              "      <td>BMW</td>\n",
              "      <td>6 Series Gran Coupe</td>\n",
              "      <td>650i</td>\n",
              "      <td>Sedan</td>\n",
              "      <td>automatic</td>\n",
              "      <td>43.0</td>\n",
              "      <td>2641.0</td>\n",
              "      <td>gray</td>\n",
              "      <td>black</td>\n",
              "      <td>67000.0</td>\n",
              "      <td>2014</td>\n",
              "      <td>0</td>\n",
              "    </tr>\n",
              "  </tbody>\n",
              "</table>\n",
              "</div>\n",
              "    <div class=\"colab-df-buttons\">\n",
              "\n",
              "  <div class=\"colab-df-container\">\n",
              "    <button class=\"colab-df-convert\" onclick=\"convertToInteractive('df-1beffc11-4833-4d21-95d5-3838eaf1c2e0')\"\n",
              "            title=\"Convert this dataframe to an interactive table.\"\n",
              "            style=\"display:none;\">\n",
              "\n",
              "  <svg xmlns=\"http://www.w3.org/2000/svg\" height=\"24px\" viewBox=\"0 -960 960 960\">\n",
              "    <path d=\"M120-120v-720h720v720H120Zm60-500h600v-160H180v160Zm220 220h160v-160H400v160Zm0 220h160v-160H400v160ZM180-400h160v-160H180v160Zm440 0h160v-160H620v160ZM180-180h160v-160H180v160Zm440 0h160v-160H620v160Z\"/>\n",
              "  </svg>\n",
              "    </button>\n",
              "\n",
              "  <style>\n",
              "    .colab-df-container {\n",
              "      display:flex;\n",
              "      gap: 12px;\n",
              "    }\n",
              "\n",
              "    .colab-df-convert {\n",
              "      background-color: #E8F0FE;\n",
              "      border: none;\n",
              "      border-radius: 50%;\n",
              "      cursor: pointer;\n",
              "      display: none;\n",
              "      fill: #1967D2;\n",
              "      height: 32px;\n",
              "      padding: 0 0 0 0;\n",
              "      width: 32px;\n",
              "    }\n",
              "\n",
              "    .colab-df-convert:hover {\n",
              "      background-color: #E2EBFA;\n",
              "      box-shadow: 0px 1px 2px rgba(60, 64, 67, 0.3), 0px 1px 3px 1px rgba(60, 64, 67, 0.15);\n",
              "      fill: #174EA6;\n",
              "    }\n",
              "\n",
              "    .colab-df-buttons div {\n",
              "      margin-bottom: 4px;\n",
              "    }\n",
              "\n",
              "    [theme=dark] .colab-df-convert {\n",
              "      background-color: #3B4455;\n",
              "      fill: #D2E3FC;\n",
              "    }\n",
              "\n",
              "    [theme=dark] .colab-df-convert:hover {\n",
              "      background-color: #434B5C;\n",
              "      box-shadow: 0px 1px 3px 1px rgba(0, 0, 0, 0.15);\n",
              "      filter: drop-shadow(0px 1px 2px rgba(0, 0, 0, 0.3));\n",
              "      fill: #FFFFFF;\n",
              "    }\n",
              "  </style>\n",
              "\n",
              "    <script>\n",
              "      const buttonEl =\n",
              "        document.querySelector('#df-1beffc11-4833-4d21-95d5-3838eaf1c2e0 button.colab-df-convert');\n",
              "      buttonEl.style.display =\n",
              "        google.colab.kernel.accessAllowed ? 'block' : 'none';\n",
              "\n",
              "      async function convertToInteractive(key) {\n",
              "        const element = document.querySelector('#df-1beffc11-4833-4d21-95d5-3838eaf1c2e0');\n",
              "        const dataTable =\n",
              "          await google.colab.kernel.invokeFunction('convertToInteractive',\n",
              "                                                    [key], {});\n",
              "        if (!dataTable) return;\n",
              "\n",
              "        const docLinkHtml = 'Like what you see? Visit the ' +\n",
              "          '<a target=\"_blank\" href=https://colab.research.google.com/notebooks/data_table.ipynb>data table notebook</a>'\n",
              "          + ' to learn more about interactive tables.';\n",
              "        element.innerHTML = '';\n",
              "        dataTable['output_type'] = 'display_data';\n",
              "        await google.colab.output.renderOutput(dataTable, element);\n",
              "        const docLink = document.createElement('div');\n",
              "        docLink.innerHTML = docLinkHtml;\n",
              "        element.appendChild(docLink);\n",
              "      }\n",
              "    </script>\n",
              "  </div>\n",
              "\n",
              "\n",
              "    <div id=\"df-8a52cefb-3f28-4f6c-81f7-04c29a8ad172\">\n",
              "      <button class=\"colab-df-quickchart\" onclick=\"quickchart('df-8a52cefb-3f28-4f6c-81f7-04c29a8ad172')\"\n",
              "                title=\"Suggest charts\"\n",
              "                style=\"display:none;\">\n",
              "\n",
              "<svg xmlns=\"http://www.w3.org/2000/svg\" height=\"24px\"viewBox=\"0 0 24 24\"\n",
              "     width=\"24px\">\n",
              "    <g>\n",
              "        <path d=\"M19 3H5c-1.1 0-2 .9-2 2v14c0 1.1.9 2 2 2h14c1.1 0 2-.9 2-2V5c0-1.1-.9-2-2-2zM9 17H7v-7h2v7zm4 0h-2V7h2v10zm4 0h-2v-4h2v4z\"/>\n",
              "    </g>\n",
              "</svg>\n",
              "      </button>\n",
              "\n",
              "<style>\n",
              "  .colab-df-quickchart {\n",
              "      --bg-color: #E8F0FE;\n",
              "      --fill-color: #1967D2;\n",
              "      --hover-bg-color: #E2EBFA;\n",
              "      --hover-fill-color: #174EA6;\n",
              "      --disabled-fill-color: #AAA;\n",
              "      --disabled-bg-color: #DDD;\n",
              "  }\n",
              "\n",
              "  [theme=dark] .colab-df-quickchart {\n",
              "      --bg-color: #3B4455;\n",
              "      --fill-color: #D2E3FC;\n",
              "      --hover-bg-color: #434B5C;\n",
              "      --hover-fill-color: #FFFFFF;\n",
              "      --disabled-bg-color: #3B4455;\n",
              "      --disabled-fill-color: #666;\n",
              "  }\n",
              "\n",
              "  .colab-df-quickchart {\n",
              "    background-color: var(--bg-color);\n",
              "    border: none;\n",
              "    border-radius: 50%;\n",
              "    cursor: pointer;\n",
              "    display: none;\n",
              "    fill: var(--fill-color);\n",
              "    height: 32px;\n",
              "    padding: 0;\n",
              "    width: 32px;\n",
              "  }\n",
              "\n",
              "  .colab-df-quickchart:hover {\n",
              "    background-color: var(--hover-bg-color);\n",
              "    box-shadow: 0 1px 2px rgba(60, 64, 67, 0.3), 0 1px 3px 1px rgba(60, 64, 67, 0.15);\n",
              "    fill: var(--button-hover-fill-color);\n",
              "  }\n",
              "\n",
              "  .colab-df-quickchart-complete:disabled,\n",
              "  .colab-df-quickchart-complete:disabled:hover {\n",
              "    background-color: var(--disabled-bg-color);\n",
              "    fill: var(--disabled-fill-color);\n",
              "    box-shadow: none;\n",
              "  }\n",
              "\n",
              "  .colab-df-spinner {\n",
              "    border: 2px solid var(--fill-color);\n",
              "    border-color: transparent;\n",
              "    border-bottom-color: var(--fill-color);\n",
              "    animation:\n",
              "      spin 1s steps(1) infinite;\n",
              "  }\n",
              "\n",
              "  @keyframes spin {\n",
              "    0% {\n",
              "      border-color: transparent;\n",
              "      border-bottom-color: var(--fill-color);\n",
              "      border-left-color: var(--fill-color);\n",
              "    }\n",
              "    20% {\n",
              "      border-color: transparent;\n",
              "      border-left-color: var(--fill-color);\n",
              "      border-top-color: var(--fill-color);\n",
              "    }\n",
              "    30% {\n",
              "      border-color: transparent;\n",
              "      border-left-color: var(--fill-color);\n",
              "      border-top-color: var(--fill-color);\n",
              "      border-right-color: var(--fill-color);\n",
              "    }\n",
              "    40% {\n",
              "      border-color: transparent;\n",
              "      border-right-color: var(--fill-color);\n",
              "      border-top-color: var(--fill-color);\n",
              "    }\n",
              "    60% {\n",
              "      border-color: transparent;\n",
              "      border-right-color: var(--fill-color);\n",
              "    }\n",
              "    80% {\n",
              "      border-color: transparent;\n",
              "      border-right-color: var(--fill-color);\n",
              "      border-bottom-color: var(--fill-color);\n",
              "    }\n",
              "    90% {\n",
              "      border-color: transparent;\n",
              "      border-bottom-color: var(--fill-color);\n",
              "    }\n",
              "  }\n",
              "</style>\n",
              "\n",
              "      <script>\n",
              "        async function quickchart(key) {\n",
              "          const quickchartButtonEl =\n",
              "            document.querySelector('#' + key + ' button');\n",
              "          quickchartButtonEl.disabled = true;  // To prevent multiple clicks.\n",
              "          quickchartButtonEl.classList.add('colab-df-spinner');\n",
              "          try {\n",
              "            const charts = await google.colab.kernel.invokeFunction(\n",
              "                'suggestCharts', [key], {});\n",
              "          } catch (error) {\n",
              "            console.error('Error during call to suggestCharts:', error);\n",
              "          }\n",
              "          quickchartButtonEl.classList.remove('colab-df-spinner');\n",
              "          quickchartButtonEl.classList.add('colab-df-quickchart-complete');\n",
              "        }\n",
              "        (() => {\n",
              "          let quickchartButtonEl =\n",
              "            document.querySelector('#df-8a52cefb-3f28-4f6c-81f7-04c29a8ad172 button');\n",
              "          quickchartButtonEl.style.display =\n",
              "            google.colab.kernel.accessAllowed ? 'block' : 'none';\n",
              "        })();\n",
              "      </script>\n",
              "    </div>\n",
              "\n",
              "    </div>\n",
              "  </div>\n"
            ],
            "application/vnd.google.colaboratory.intrinsic+json": {
              "type": "dataframe",
              "variable_name": "df"
            }
          },
          "metadata": {},
          "execution_count": 14
        }
      ]
    },
    {
      "cell_type": "markdown",
      "source": [
        "### Eksik Değerlerin Silinmesi"
      ],
      "metadata": {
        "id": "7UKy3XJd16Hh"
      }
    },
    {
      "cell_type": "code",
      "source": [
        "rows_before = df.shape[0]\n",
        "df.dropna(inplace=True)\n",
        "rows_after = df.shape[0]\n",
        "\n",
        "print(f\"\\nEksik değer içeren satırlar silindi. Önce: {rows_before}, Sonra: {rows_after}, Silinen: {rows_before - rows_after}\")\n",
        "print(\"\\nEksik Değer Sayıları:\\n\", df.isnull().sum())"
      ],
      "metadata": {
        "colab": {
          "base_uri": "https://localhost:8080/"
        },
        "id": "HY-mC7hL0s_w",
        "outputId": "9e1b132a-c178-4537-dfb7-4a14d7759381"
      },
      "execution_count": 15,
      "outputs": [
        {
          "output_type": "stream",
          "name": "stdout",
          "text": [
            "\n",
            "Eksik değer içeren satırlar silindi. Önce: 558791, Sonra: 472325, Silinen: 86466\n",
            "\n",
            "Eksik Değer Sayıları:\n",
            " year            0\n",
            "make            0\n",
            "model           0\n",
            "trim            0\n",
            "body            0\n",
            "transmission    0\n",
            "condition       0\n",
            "odometer        0\n",
            "color           0\n",
            "interior        0\n",
            "sellingprice    0\n",
            "sale_year       0\n",
            "vehicle_age     0\n",
            "dtype: int64\n"
          ]
        }
      ]
    },
    {
      "cell_type": "markdown",
      "source": [
        "### Aykırı Değerlerin Yönetimi"
      ],
      "metadata": {
        "id": "Mzl9wJLj2IlU"
      }
    },
    {
      "cell_type": "code",
      "source": [
        "plt.figure(figsize=(10, 4))\n",
        "sns.boxplot(x=df['sellingprice'])\n",
        "plt.title(\"sellingprice'\")\n",
        "plt.xlabel(\"sellingprice\")\n",
        "plt.show()"
      ],
      "metadata": {
        "colab": {
          "base_uri": "https://localhost:8080/",
          "height": 410
        },
        "id": "77DUBmb-4_nW",
        "outputId": "b627478a-618f-4a83-81bc-d1d58cf9e0ad"
      },
      "execution_count": 16,
      "outputs": [
        {
          "output_type": "display_data",
          "data": {
            "text/plain": [
              "<Figure size 1000x400 with 1 Axes>"
            ],
            "image/png": "[encoded data removed]"
          },
          "metadata": {}
        }
      ]
    },
    {
      "cell_type": "code",
      "source": [
        "# IQR yöntemi ile aykırı değer temizliği - sellingprice\n",
        "Q1_price = df['sellingprice'].quantile(0.25)\n",
        "Q3_price = df['sellingprice'].quantile(0.75)\n",
        "IQR_price = Q3_price - Q1_price\n",
        "\n",
        "lower_price = Q1_price - 1.5 * IQR_price\n",
        "upper_price = Q3_price + 1.5 * IQR_price\n",
        "\n",
        "df = df[(df['sellingprice'] >= lower_price) & (df['sellingprice'] <= upper_price)]\n",
        "print(f\"'sellingprice' için IQR temelli filtreleme sonrası veri boyutu: {df.shape}\")"
      ],
      "metadata": {
        "colab": {
          "base_uri": "https://localhost:8080/"
        },
        "id": "WnKxBpyk5Fof",
        "outputId": "3b413c80-db46-4bc0-a7c6-089417390598"
      },
      "execution_count": 17,
      "outputs": [
        {
          "output_type": "stream",
          "name": "stdout",
          "text": [
            "'sellingprice' için IQR temelli filtreleme sonrası veri boyutu: (458207, 13)\n"
          ]
        }
      ]
    },
    {
      "cell_type": "code",
      "source": [
        "plt.figure(figsize=(10, 4))\n",
        "sns.boxplot(x=df['sellingprice'])\n",
        "plt.title(\"'sellingprice'\")\n",
        "plt.xlabel(\"sellingprice\")\n",
        "plt.show()"
      ],
      "metadata": {
        "colab": {
          "base_uri": "https://localhost:8080/",
          "height": 410
        },
        "id": "nvTLRtzD5H3-",
        "outputId": "5b7a49bb-5e4b-4011-bee6-dfb8b71b77d0"
      },
      "execution_count": 18,
      "outputs": [
        {
          "output_type": "display_data",
          "data": {
            "text/plain": [
              "<Figure size 1000x400 with 1 Axes>"
            ],
            "image/png": "[encoded data removed]"
          },
          "metadata": {}
        }
      ]
    },
    {
      "cell_type": "code",
      "source": [
        "plt.figure(figsize=(10, 4))\n",
        "sns.boxplot(x=df['odometer'])\n",
        "plt.title(\"'odometer'\")\n",
        "plt.xlabel(\"odometer\")\n",
        "plt.show()"
      ],
      "metadata": {
        "colab": {
          "base_uri": "https://localhost:8080/",
          "height": 410
        },
        "id": "OilLDKDl5KXO",
        "outputId": "3c0d9d72-ab73-4b0f-f315-3fb48ee88531"
      },
      "execution_count": 19,
      "outputs": [
        {
          "output_type": "display_data",
          "data": {
            "text/plain": [
              "<Figure size 1000x400 with 1 Axes>"
            ],
            "image/png": "[encoded data removed]"
          },
          "metadata": {}
        }
      ]
    },
    {
      "cell_type": "code",
      "source": [
        "Q1_odo = df['odometer'].quantile(0.25)\n",
        "Q3_odo = df['odometer'].quantile(0.75)\n",
        "IQR_odo = Q3_odo - Q1_odo\n",
        "\n",
        "lower_odo = Q1_odo - 1.5 * IQR_odo\n",
        "upper_odo = Q3_odo + 1.5 * IQR_odo\n",
        "\n",
        "df = df[(df['odometer'] >= lower_odo) & (df['odometer'] <= upper_odo)]\n",
        "print(f\"'odometer' için IQR temelli filtreleme sonrası veri boyutu: {df.shape}\")"
      ],
      "metadata": {
        "colab": {
          "base_uri": "https://localhost:8080/"
        },
        "id": "AFuoypwy5MBi",
        "outputId": "1a2d8ff4-3d1e-4936-d5e4-454cb88e7b77"
      },
      "execution_count": 20,
      "outputs": [
        {
          "output_type": "stream",
          "name": "stdout",
          "text": [
            "'odometer' için IQR temelli filtreleme sonrası veri boyutu: (449808, 13)\n"
          ]
        }
      ]
    },
    {
      "cell_type": "code",
      "source": [
        "plt.figure(figsize=(10, 4))\n",
        "sns.boxplot(x=df['odometer'])\n",
        "plt.title(\"'odometer'\")\n",
        "plt.xlabel(\"odometer\")\n",
        "plt.show()"
      ],
      "metadata": {
        "colab": {
          "base_uri": "https://localhost:8080/",
          "height": 410
        },
        "id": "4AuznbGW5NQt",
        "outputId": "90875b29-6dbd-4dc3-e04e-cae3d5dceb0e"
      },
      "execution_count": 21,
      "outputs": [
        {
          "output_type": "display_data",
          "data": {
            "text/plain": [
              "<Figure size 1000x400 with 1 Axes>"
            ],
            "image/png": "[encoded data removed]"
          },
          "metadata": {}
        }
      ]
    },
    {
      "cell_type": "code",
      "source": [
        "# Hedef değişkenin yeni (sellingprice) dağılımı\n",
        "plt.figure(figsize=(12, 6))\n",
        "sns.histplot(df['sellingprice'], kde=True, bins=50)\n",
        "plt.title('Satış Fiyatı (sellingprice) Dağılımı')\n",
        "plt.xlabel('Satış Fiyatı')\n",
        "plt.ylabel('Frekans')\n",
        "plt.show()"
      ],
      "metadata": {
        "colab": {
          "base_uri": "https://localhost:8080/",
          "height": 564
        },
        "id": "SLRjut5t75UX",
        "outputId": "b6a5a024-2b14-4383-a6f9-3ab109a5bd8c"
      },
      "execution_count": 22,
      "outputs": [
        {
          "output_type": "display_data",
          "data": {
            "text/plain": [
              "<Figure size 1200x600 with 1 Axes>"
            ],
            "image/png": "[encoded data removed]"
          },
          "metadata": {}
        }
      ]
    },
    {
      "cell_type": "markdown",
      "source": [
        " ### Kategorik Verilerin İşlenmesi (Encoding) & Yüksek Kardinalite Yönetimi"
      ],
      "metadata": {
        "id": "GKg4d-P93-iP"
      }
    },
    {
      "cell_type": "code",
      "source": [
        "def reduce_cardinality(df_orig, column_name, threshold_abs=100, new_category_name=\"Other\"):\n",
        "    df = df_orig.copy()\n",
        "    counts = df[column_name].value_counts()\n",
        "    # Eşiğin altındaki kategorileri belirle\n",
        "    categories_to_group = counts[counts < threshold_abs].index.tolist()\n",
        "\n",
        "    if categories_to_group:\n",
        "        print(f\"'{column_name}' sütununda {len(categories_to_group)} kategori (frekans < {threshold_abs}) '{new_category_name}' olarak gruplanıyor.\")\n",
        "        df[column_name] = df[column_name].apply(lambda x: new_category_name if x in categories_to_group else x)\n",
        "    else:\n",
        "        print(f\"'{column_name}' sütununda belirtilen eşiğin altında kategori bulunamadı.\")\n",
        "    return df"
      ],
      "metadata": {
        "id": "9Pc12emJ3_rJ"
      },
      "execution_count": 23,
      "outputs": []
    },
    {
      "cell_type": "code",
      "source": [
        "categorical_cols_to_process = ['make', 'model', 'trim', 'body', 'transmission', 'color', 'interior']\n",
        "for col_name in categorical_cols_to_process:\n",
        "    if col_name in df.columns:\n",
        "        df[col_name] = df[col_name].astype(str).str.lower().str.strip()\n",
        "\n",
        "        unique_before = df[col_name].nunique()\n",
        "\n",
        "        df = reduce_cardinality(df, col_name, threshold_abs=200, new_category_name=f'Other_{col_name}')\n",
        "        print(f\"'{col_name}' benzersiz değer sayısı: {unique_before} -> {df[col_name].nunique()}\")\n",
        "    else:\n",
        "        print(f\"'{col_name}' sütunu bulunamadı, kardinalite azaltma atlandı.\")"
      ],
      "metadata": {
        "colab": {
          "base_uri": "https://localhost:8080/"
        },
        "id": "D6SNCyKu5myy",
        "outputId": "d5433af2-244d-4b87-f632-00945d47e56c"
      },
      "execution_count": 24,
      "outputs": [
        {
          "output_type": "stream",
          "name": "stdout",
          "text": [
            "'make' sütununda 6 kategori (frekans < 200) 'Other_make' olarak gruplanıyor.\n",
            "'make' benzersiz değer sayısı: 46 -> 41\n",
            "'model' sütununda 429 kategori (frekans < 200) 'Other_model' olarak gruplanıyor.\n",
            "'model' benzersiz değer sayısı: 715 -> 287\n",
            "'trim' sütununda 1164 kategori (frekans < 200) 'Other_trim' olarak gruplanıyor.\n",
            "'trim' benzersiz değer sayısı: 1383 -> 220\n",
            "'body' sütununda 20 kategori (frekans < 200) 'Other_body' olarak gruplanıyor.\n",
            "'body' benzersiz değer sayısı: 43 -> 24\n",
            "'transmission' sütununda belirtilen eşiğin altında kategori bulunamadı.\n",
            "'transmission' benzersiz değer sayısı: 2 -> 2\n",
            "'color' sütununda 3 kategori (frekans < 200) 'Other_color' olarak gruplanıyor.\n",
            "'color' benzersiz değer sayısı: 20 -> 18\n",
            "'interior' sütununda 5 kategori (frekans < 200) 'Other_interior' olarak gruplanıyor.\n",
            "'interior' benzersiz değer sayısı: 17 -> 13\n"
          ]
        }
      ]
    },
    {
      "cell_type": "markdown",
      "source": [
        "## Hedef değişken ve Özelliklerin Ayrılması"
      ],
      "metadata": {
        "id": "HAEL_rmj8wAR"
      }
    },
    {
      "cell_type": "code",
      "source": [
        "X = df.drop('sellingprice', axis=1)\n",
        "y = df['sellingprice']"
      ],
      "metadata": {
        "id": "yEsBJQ6f8vR3"
      },
      "execution_count": 25,
      "outputs": []
    },
    {
      "cell_type": "code",
      "source": [
        "# Sayısal ve Kategorik Sütunların Belirlenmesi (Ön işleme sonrası)\n",
        "numerical_cols = X.select_dtypes(include=np.number).columns.tolist()\n",
        "categorical_cols = X.select_dtypes(include='object').columns.tolist()\n",
        "\n",
        "print(\"\\nSayısal Sütunlar:\", numerical_cols)\n",
        "print(\"Kategorik Sütunlar:\", categorical_cols)"
      ],
      "metadata": {
        "colab": {
          "base_uri": "https://localhost:8080/"
        },
        "id": "UChpnDSE82Yv",
        "outputId": "9e5d462f-aae0-4ee5-d59a-996f0655f95f"
      },
      "execution_count": 26,
      "outputs": [
        {
          "output_type": "stream",
          "name": "stdout",
          "text": [
            "\n",
            "Sayısal Sütunlar: ['year', 'condition', 'odometer', 'sale_year', 'vehicle_age']\n",
            "Kategorik Sütunlar: ['make', 'model', 'trim', 'body', 'transmission', 'color', 'interior']\n"
          ]
        }
      ]
    },
    {
      "cell_type": "markdown",
      "source": [
        "## Makine Öğrenmesi Pipeline'ı Oluşturma"
      ],
      "metadata": {
        "id": "nGiYJ1Je9DjT"
      }
    },
    {
      "cell_type": "code",
      "source": [
        "numerical_transformer = Pipeline(steps=[\n",
        "    ('imputer', SimpleImputer(strategy='median')),\n",
        "    ('scaler', StandardScaler())\n",
        "])\n",
        "\n",
        "categorical_transformer = Pipeline(steps=[\n",
        "    ('imputer', SimpleImputer(strategy='most_frequent')),\n",
        "    ('onehot', OneHotEncoder(handle_unknown='ignore', drop='first'))\n",
        "])\n",
        "\n",
        "preprocessor = ColumnTransformer(\n",
        "    transformers=[\n",
        "        ('num', numerical_transformer, numerical_cols),\n",
        "        ('cat', categorical_transformer, categorical_cols)\n",
        "    ], remainder='passthrough'\n",
        ")"
      ],
      "metadata": {
        "id": "h_ImkNOK87Eb"
      },
      "execution_count": 27,
      "outputs": []
    },
    {
      "cell_type": "code",
      "source": [
        "# Veriyi Eğitim ve Test Olarak Ayırma\n",
        "X_train, X_test, y_train, y_test = train_test_split(X, y, test_size=0.2, random_state=42)\n",
        "\n",
        "print(f\"X_train shape: {X_train.shape}, X_test shape: {X_test.shape}\")"
      ],
      "metadata": {
        "colab": {
          "base_uri": "https://localhost:8080/"
        },
        "id": "IIaRZTSG9PTx",
        "outputId": "87a811dd-9a06-4069-c95f-c9c371a2dd1a"
      },
      "execution_count": 28,
      "outputs": [
        {
          "output_type": "stream",
          "name": "stdout",
          "text": [
            "X_train shape: (359846, 12), X_test shape: (89962, 12)\n"
          ]
        }
      ]
    },
    {
      "cell_type": "markdown",
      "source": [
        "## Algoritma Performans Testleri"
      ],
      "metadata": {
        "id": "xDCYzIGI9RxM"
      }
    },
    {
      "cell_type": "code",
      "source": [
        "# Denenecek Modeller (Regresyon)\n",
        "models = {\n",
        "    \"Linear Regression\": LinearRegression(),\n",
        "    \"Ridge Regression\": Ridge(random_state=42),\n",
        "    \"Lasso Regression\": Lasso(random_state=42, max_iter=50, tol=0.01),\n",
        "    \"Decision Tree\": DecisionTreeRegressor(random_state=42, max_depth=12, min_samples_split=50, min_samples_leaf=20)\n",
        "}\n",
        "\n",
        "results = {}\n",
        "r2_scores = {}"
      ],
      "metadata": {
        "id": "aVvC79SQ9RaW"
      },
      "execution_count": 29,
      "outputs": []
    },
    {
      "cell_type": "code",
      "source": [
        "for name, model in models.items():\n",
        "    print(f\"Training {name}...\")\n",
        "    # Her model için tam pipeline oluştur\n",
        "    pipeline = Pipeline(steps=[('preprocessor', preprocessor),\n",
        "                               ('regressor', model)])\n",
        "    try:\n",
        "        pipeline.fit(X_train, y_train)\n",
        "        y_pred_train = pipeline.predict(X_train)\n",
        "        y_pred_test = pipeline.predict(X_test)\n",
        "        y_train_eval = y_train\n",
        "        y_test_eval = y_test\n",
        "\n",
        "\n",
        "        train_rmse = np.sqrt(mean_squared_error(y_train_eval, y_pred_train))\n",
        "        test_rmse = np.sqrt(mean_squared_error(y_test_eval, y_pred_test))\n",
        "        train_r2 = r2_score(y_train_eval, y_pred_train)\n",
        "        test_r2 = r2_score(y_test_eval, y_pred_test)\n",
        "\n",
        "        results[name] = {'Train RMSE': train_rmse, 'Test RMSE': test_rmse,\n",
        "                         'Train R2': train_r2, 'Test R2': test_r2}\n",
        "        r2_scores[name] = test_r2 # Sadece test R2'yi sakla, sıralama için\n",
        "        print(f\"{name} - Test R2: {test_r2:.4f}, Test RMSE: {test_rmse:.2f}\\n\")\n",
        "\n",
        "    except Exception as e:\n",
        "        print(f\"Error training {name}: {e}\\n\")\n",
        "        results[name] = {'Train RMSE': np.nan, 'Test RMSE': np.nan,\n",
        "                         'Train R2': np.nan, 'Test R2': np.nan}\n",
        "        r2_scores[name] = -np.inf\n"
      ],
      "metadata": {
        "colab": {
          "base_uri": "https://localhost:8080/"
        },
        "id": "23GeTJ5z9bIy",
        "outputId": "9254555d-ba82-4f34-be80-78ed9d3fa2d9"
      },
      "execution_count": 30,
      "outputs": [
        {
          "output_type": "stream",
          "name": "stdout",
          "text": [
            "Training Linear Regression...\n",
            "Linear Regression - Test R2: 0.8692, Test RMSE: 2740.54\n",
            "\n",
            "Training Ridge Regression...\n",
            "Ridge Regression - Test R2: 0.8692, Test RMSE: 2741.11\n",
            "\n",
            "Training Lasso Regression...\n",
            "Lasso Regression - Test R2: 0.8618, Test RMSE: 2817.47\n",
            "\n",
            "Training Decision Tree...\n",
            "Decision Tree - Test R2: 0.7765, Test RMSE: 3582.91\n",
            "\n"
          ]
        }
      ]
    },
    {
      "cell_type": "code",
      "source": [
        "# Sonuçları göster\n",
        "results_df = pd.DataFrame(results).T.sort_values(by=\"Test R2\", ascending=False)\n",
        "print(\"\\nModel Performansları:\")\n",
        "print(results_df)"
      ],
      "metadata": {
        "id": "bqRLWkE99ia0",
        "colab": {
          "base_uri": "https://localhost:8080/"
        },
        "outputId": "cb46b9ef-3d43-47de-d493-2aef486d251f"
      },
      "execution_count": 31,
      "outputs": [
        {
          "output_type": "stream",
          "name": "stdout",
          "text": [
            "\n",
            "Model Performansları:\n",
            "                    Train RMSE    Test RMSE  Train R2   Test R2\n",
            "Linear Regression  2704.639042  2740.535044  0.872092  0.869214\n",
            "Ridge Regression   2705.955600  2741.109276  0.871968  0.869159\n",
            "Lasso Regression   2786.481394  2817.467035  0.864234  0.861768\n",
            "Decision Tree      3539.545881  3582.909016  0.780935  0.776457\n"
          ]
        }
      ]
    },
    {
      "cell_type": "markdown",
      "source": [
        "Performans kısıtlarından ötürü decision tree sınırlı şekilde kullanılmıştır ve bu durumda en optimal model ridge bulunmuştır. Ridge Regression için hiperparametre optimizasyonu:\n"
      ],
      "metadata": {
        "id": "u-CutdysGlae"
      }
    },
    {
      "cell_type": "code",
      "source": [
        "# Ridge için Pipeline ve Parametre Grid'i\n",
        "pipeline_ridge = Pipeline(steps=[('preprocessor', preprocessor),\n",
        "                               ('regressor', Ridge(random_state=42))])\n",
        "param_grid_ridge = {\n",
        "    'regressor__alpha': [0.001, 0.01, 0.1, 1, 10, 100, 1000] # Denenecek alpha değerleri\n",
        "}\n",
        "grid_search_ridge = GridSearchCV(estimator=pipeline_ridge,\n",
        "                                 param_grid=param_grid_ridge,\n",
        "                                 cv=5,\n",
        "                                 scoring='r2',\n",
        "                                 n_jobs=-1,\n",
        "                                 verbose=1)\n",
        "grid_search_ridge.fit(X_train, y_train)\n",
        "print(f\"\\nEn iyi Ridge parametreleri: {grid_search_ridge.best_params_}\")\n",
        "print(f\"En iyi Ridge R2 (CV): {grid_search_ridge.best_score_:.4f}\")\n",
        "best_ridge_model = grid_search_ridge.best_estimator_\n",
        "y_pred_test_ridge = best_ridge_model.predict(X_test)\n",
        "test_r2_ridge = r2_score(y_test, y_pred_test_ridge)\n",
        "test_rmse_ridge = np.sqrt(mean_squared_error(y_test, y_pred_test_ridge))\n",
        "print(f\"Optimize Edilmiş Ridge - Test R2: {test_r2_ridge:.4f}, Test RMSE: {test_rmse_ridge:.2f}\")"
      ],
      "metadata": {
        "colab": {
          "base_uri": "https://localhost:8080/"
        },
        "id": "c1GuwTcmGUlQ",
        "outputId": "26f9857c-bd7e-406a-cb0d-e352b0b21652"
      },
      "execution_count": 33,
      "outputs": [
        {
          "output_type": "stream",
          "name": "stdout",
          "text": [
            "Fitting 5 folds for each of 7 candidates, totalling 35 fits\n",
            "\n",
            "En iyi Ridge parametreleri: {'regressor__alpha': 0.01}\n",
            "En iyi Ridge R2 (CV): 0.8714\n",
            "Optimize Edilmiş Ridge - Test R2: 0.8692, Test RMSE: 2741.04\n"
          ]
        }
      ]
    }
  ]
}